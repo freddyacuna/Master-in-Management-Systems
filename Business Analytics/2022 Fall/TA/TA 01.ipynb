{
 "cells": [
  {
   "cell_type": "markdown",
   "metadata": {},
   "source": [
    "# Business Analytics\n",
    "\n",
    "**Magister en Control de Gestión**\n",
    "\n",
    "**Semestre Otoño 2022**\n",
    "\n",
    "**Profesor: Diego Beas**\n",
    "    \n",
    "**Ayudantes: Francisco Robles - Freddy Acuña - Nicolás Miras**\n",
    "\n",
    "---\n",
    "# Ayudantía 1 : Introducción a Python"
   ]
  },
  {
   "cell_type": "markdown",
   "metadata": {},
   "source": [
    "## 1. Trabajando en Jupyter:\n",
    "**Insert** -> Cell Above (Abajo)\n",
    "\n",
    "\n",
    "**Insert** -> Cell Below (Arriba)\n",
    "\n",
    "**Edit** -> Delete Cells (Borrar Celdas)\n",
    "\n",
    "**Code:** Correr Código y Dejar Notas\n",
    "\n",
    "**Markdown:** Escribir Mensajes. Entre más \"#\" hayan, más chica se hace la letra.\n",
    "\n",
    "***RECUERDEN SIEMPRE GUARDAR LOS AVANCES***"
   ]
  },
  {
   "cell_type": "code",
   "execution_count": 5,
   "metadata": {},
   "outputs": [
    {
     "name": "stdout",
     "output_type": "stream",
     "text": [
      "Hola Mundo\n"
     ]
    }
   ],
   "source": [
    "# Utilizando \"gato\" podemos escribir comentarios en una línea de código\n",
    "print(\"Hola Mundo\")"
   ]
  },
  {
   "cell_type": "code",
   "execution_count": 6,
   "metadata": {},
   "outputs": [
    {
     "name": "stdout",
     "output_type": "stream",
     "text": [
      ":)\n"
     ]
    }
   ],
   "source": [
    "print(\":)\") # También dejar comentarios en la misma línea de código"
   ]
  },
  {
   "cell_type": "markdown",
   "metadata": {},
   "source": [
    "## 2. Función Print:\n",
    "La función Print lo que hace sencillamente es imprimir en pantalla lo que nosotros le indiquemos como argumento:"
   ]
  },
  {
   "cell_type": "code",
   "execution_count": 7,
   "metadata": {},
   "outputs": [
    {
     "name": "stdout",
     "output_type": "stream",
     "text": [
      "Hola esto es una cadena de texto\n"
     ]
    }
   ],
   "source": [
    "print(\"Hola esto es una cadena de texto\")"
   ]
  },
  {
   "cell_type": "markdown",
   "metadata": {},
   "source": [
    "Ejecutando este código estamos llamando a la función predefinida print y mostrara en pantalla «Hola esto es una cadena de texto». Puesto que la función toma como argumento, el texto que está entre comillas.\n",
    "\n",
    "### Evitar los errores de sintaxis:\n",
    "1. El texto siempre debe estar entre *comillas* porque sino se interpretará a las palabras como algún objeto que por supuesto no existe!! y nos dará un *Error de sintaxis!*\n",
    " \n",
    "\n",
    "2. Siempre se debe respetar la Sintaxis de las funciones en python colocando luego de ella los paréntesis. Aunque no se le indique ningún argumento, debe llevar los paréntesis que serán los que indiquen que es una función!. Por ejemplo: print() , esto no imprimirá nada, pero no nos dará ningún error."
   ]
  },
  {
   "cell_type": "code",
   "execution_count": 8,
   "metadata": {},
   "outputs": [
    {
     "name": "stdout",
     "output_type": "stream",
     "text": [
      "123\n"
     ]
    }
   ],
   "source": [
    "# Tambien podemos imprimir números\n",
    "print(123)"
   ]
  },
  {
   "cell_type": "code",
   "execution_count": 9,
   "metadata": {},
   "outputs": [
    {
     "data": {
      "text/plain": [
       "18.0"
      ]
     },
     "execution_count": 9,
     "metadata": {},
     "output_type": "execute_result"
    }
   ],
   "source": [
    "# También se pueden hacer calculos\n",
    "1+2+3*10/2"
   ]
  },
  {
   "cell_type": "markdown",
   "metadata": {},
   "source": [
    "## 3. Declarando variables:\n",
    " En python al declarar una variable no necesitamos especificar el tipo de dato que vamos a almacenar en ella como, si es necesario en otros lenguajes de programación (VBA). A continuación declararemos 4 variables de la siguiente manera:"
   ]
  },
  {
   "cell_type": "code",
   "execution_count": 37,
   "metadata": {},
   "outputs": [],
   "source": [
    "Var_1 = \"BA es el mejor ramo para sufrir\" # Varible del tipo texto (str)\n",
    "Var_2 = 18  # Varible del tipo entero (int)\n",
    "Var_3 = 98.12 # Varible del tipo float\n",
    "Var_4 = True # Varible del tipo boolean\n",
    "Var_5 = 1+2*3\n",
    "\n",
    "BolaDeNieves = 5 # Se le puede asignar cualquier nombre a las variables"
   ]
  },
  {
   "cell_type": "code",
   "execution_count": 41,
   "metadata": {},
   "outputs": [
    {
     "name": "stdout",
     "output_type": "stream",
     "text": [
      "BA es el mejor ramo para sufrir\n"
     ]
    },
    {
     "data": {
      "text/plain": [
       "'BA es el mejor ramo para sufrir'"
      ]
     },
     "execution_count": 41,
     "metadata": {},
     "output_type": "execute_result"
    }
   ],
   "source": [
    "# Del mismo modo también podemos imprimir las variables! De 2 formas:\n",
    "print(Var_1) # No indica si la variable es string o no\n",
    "Var_1 # Indica si la variable es string o no"
   ]
  },
  {
   "cell_type": "code",
   "execution_count": 40,
   "metadata": {},
   "outputs": [
    {
     "name": "stdout",
     "output_type": "stream",
     "text": [
      "7\n"
     ]
    },
    {
     "data": {
      "text/plain": [
       "7"
      ]
     },
     "execution_count": 40,
     "metadata": {},
     "output_type": "execute_result"
    }
   ],
   "source": [
    "print (Var_5)\n",
    "Var_5"
   ]
  },
  {
   "cell_type": "markdown",
   "metadata": {},
   "source": [
    "### Función Print Type\n",
    "Si ya has declarado las funciones anteriores puedes saber su tipo utilizando la función predefinida **Type()** que nos permitirá saber la naturaleza de una variable en un momento en específico\n",
    "\n",
    "#### Hay 3 tipos más comunes de variables:\n",
    "\n",
    "> ##### Numéricas : Almacenan números, dentro de ellas podemos encontrar subtipos Int, float, complex\n",
    "\n",
    "> ##### Texto: Son las clásicas variables que almacenan cadenas de texto.\n",
    "\n",
    "> ##### Booleanas: Almacenan un valor «True» o «False«."
   ]
  },
  {
   "cell_type": "code",
   "execution_count": 42,
   "metadata": {},
   "outputs": [
    {
     "name": "stdout",
     "output_type": "stream",
     "text": [
      "<class 'str'>\n",
      "<class 'int'>\n",
      "<class 'float'>\n",
      "<class 'bool'>\n",
      "<class 'int'>\n"
     ]
    }
   ],
   "source": [
    "print (type(Var_1))\n",
    "print (type(Var_2))\n",
    "print (type(Var_3))\n",
    "print (type(Var_4))\n",
    "print(type(BolaDeNieves))"
   ]
  },
  {
   "cell_type": "markdown",
   "metadata": {},
   "source": [
    "### 4. Librerías:\n",
    "\n",
    "#### Cargar librerías\n",
    "1. Para importar una librería se usa la orden **import**.\n",
    "\n",
    "2. Se puede usar la palabra **as** para importar el módulo o funciones con otros nombre para abreviar o convención.\n",
    "\n",
    "3. En caso de necesitar solo ciertas funciones y no cargar todo, ya que esto resulta inconveniente en grandes modulos o librerias, existe la orden **from** librería **import** función."
   ]
  },
  {
   "cell_type": "markdown",
   "metadata": {},
   "source": [
    "A continuación cargaremos la libreria **numpy** con el nombre **np**.\n",
    "\n",
    "NumPy es una libreria de Python, que le agrega mayor soporte para vectores y matrices:"
   ]
  },
  {
   "cell_type": "code",
   "execution_count": 43,
   "metadata": {},
   "outputs": [],
   "source": [
    "# Importamos numpy\n",
    "\n",
    "import numpy as np"
   ]
  },
  {
   "cell_type": "markdown",
   "metadata": {},
   "source": [
    "### 5.  Numpy\n",
    "#### 5.1 ARRAY (ARREGLOS)\n",
    "A continuación generaremos un arreglo con los numeros del 1 al 9, utlizando la funcion array de numpy. "
   ]
  },
  {
   "cell_type": "code",
   "execution_count": 14,
   "metadata": {},
   "outputs": [
    {
     "data": {
      "text/plain": [
       "array([1, 2, 3, 4, 5, 6, 7, 8, 9])"
      ]
     },
     "execution_count": 14,
     "metadata": {},
     "output_type": "execute_result"
    }
   ],
   "source": [
    "arreglo = np.array([1,2,3,4,5,6,7,8,9])\n",
    "arreglo"
   ]
  },
  {
   "cell_type": "markdown",
   "metadata": {},
   "source": [
    "#### Ejercicios Básicos:\n",
    "\n",
    "* 5.1 Genere la siguiente matriz A y defina su composición:\n",
    "\n",
    "    $$\n",
    "    A = \\begin{pmatrix}\n",
    "    5 & 8 & -4 \\\\\n",
    "    6 & 9 & -5\\\\\n",
    "    4 & 7 & -2\n",
    "    \\end{pmatrix}\n",
    "    $$"
   ]
  },
  {
   "cell_type": "markdown",
   "metadata": {},
   "source": [
    "Utilizaremos la función **reshape(filas,columnas)** que permite generar una matriz según el array (arreglo) que ejecutemos. y **shape** sirve para ver su composición."
   ]
  },
  {
   "cell_type": "code",
   "execution_count": 44,
   "metadata": {},
   "outputs": [],
   "source": [
    "Matriz_A = np.array([5, 8, -4, 6, 9, -5, 4, 7, -2]).reshape(3,3)"
   ]
  },
  {
   "cell_type": "code",
   "execution_count": 61,
   "metadata": {},
   "outputs": [
    {
     "data": {
      "text/plain": [
       "array([[ 5,  8, -4],\n",
       "       [ 6,  9, -5],\n",
       "       [ 4,  7, -2]])"
      ]
     },
     "execution_count": 61,
     "metadata": {},
     "output_type": "execute_result"
    }
   ],
   "source": [
    "Matriz_A"
   ]
  },
  {
   "cell_type": "code",
   "execution_count": 80,
   "metadata": {},
   "outputs": [
    {
     "data": {
      "text/plain": [
       "(3, 3)"
      ]
     },
     "execution_count": 80,
     "metadata": {},
     "output_type": "execute_result"
    }
   ],
   "source": [
    "Matriz_A.shape"
   ]
  },
  {
   "cell_type": "markdown",
   "metadata": {},
   "source": [
    "* 5.2 Calcule la matriz Inversa de la matriz A y la Traspuesta"
   ]
  },
  {
   "cell_type": "markdown",
   "metadata": {},
   "source": [
    "Para calcular la inversa de la matriz A necesitamos la función **\"inv\"** de \"Numpy algebra lineal\" (numpy.linalg)"
   ]
  },
  {
   "cell_type": "code",
   "execution_count": 47,
   "metadata": {},
   "outputs": [],
   "source": [
    "from numpy.linalg import inv  # cargamos la funcion inv desde numpy.linalg"
   ]
  },
  {
   "cell_type": "code",
   "execution_count": 48,
   "metadata": {},
   "outputs": [
    {
     "data": {
      "text/plain": [
       "array([[-5.66666667,  4.        ,  1.33333333],\n",
       "       [ 2.66666667, -2.        , -0.33333333],\n",
       "       [-2.        ,  1.        ,  1.        ]])"
      ]
     },
     "execution_count": 48,
     "metadata": {},
     "output_type": "execute_result"
    }
   ],
   "source": [
    "#Calculamos la inversa \n",
    "inv(Matriz_A)"
   ]
  },
  {
   "cell_type": "code",
   "execution_count": 56,
   "metadata": {},
   "outputs": [
    {
     "data": {
      "text/plain": [
       "array([[ 5,  6,  4],\n",
       "       [ 8,  9,  7],\n",
       "       [-4, -5, -2]])"
      ]
     },
     "execution_count": 56,
     "metadata": {},
     "output_type": "execute_result"
    }
   ],
   "source": [
    "# Calculamos la Matriz Transpuesta: 2 ways\n",
    "\n",
    "Matriz_A.T\n",
    "\n",
    "#np.transpose(Matriz_A)"
   ]
  },
  {
   "cell_type": "markdown",
   "metadata": {},
   "source": [
    "* 5.3 Crear un vector A con la primera fila de la matriz A y un vector B con la ultima fila de la matriz A."
   ]
  },
  {
   "cell_type": "code",
   "execution_count": 51,
   "metadata": {},
   "outputs": [
    {
     "name": "stdout",
     "output_type": "stream",
     "text": [
      "[ 5  8 -4]\n",
      "[5 6 4]\n"
     ]
    }
   ],
   "source": [
    "Vector_A = Matriz_A[0,:] # vector con la primera fila de la matriz A\n",
    "Vector_B = Matriz_A[:,0] # vector con la primera columan de la matriz A\n",
    "\n",
    "print(Vector_A)\n",
    "print(Vector_B)"
   ]
  },
  {
   "cell_type": "code",
   "execution_count": null,
   "metadata": {},
   "outputs": [],
   "source": [
    "Vector_C = Matriz_A[1,2] # ??\n",
    "# print(Vector_C)"
   ]
  },
  {
   "cell_type": "markdown",
   "metadata": {},
   "source": [
    "* 5.4 Calcular el producto punto entre los vectores recién creados. Multiplicación de Vectores\n",
    "\n",
    "Para multiplicar 2 vectores o 2 matrices se puede utilizar la función **.dot** que corresponde a la libreria de numpy"
   ]
  },
  {
   "cell_type": "code",
   "execution_count": 21,
   "metadata": {},
   "outputs": [
    {
     "name": "stdout",
     "output_type": "stream",
     "text": [
      "[ 5  8 -4]\n",
      "[5 6 4]\n",
      "57\n"
     ]
    }
   ],
   "source": [
    "Producto_Punto = Vector_A.dot(Vector_B)\n",
    "print(Vector_A)\n",
    "print(Vector_B)\n",
    "print(Producto_Punto)"
   ]
  },
  {
   "cell_type": "markdown",
   "metadata": {},
   "source": [
    "* 5.5 Multiplique la matriz A con la matriz A Transpuesta"
   ]
  },
  {
   "cell_type": "code",
   "execution_count": 52,
   "metadata": {},
   "outputs": [
    {
     "data": {
      "text/plain": [
       "array([[105, 122,  84],\n",
       "       [122, 142,  97],\n",
       "       [ 84,  97,  69]])"
      ]
     },
     "execution_count": 52,
     "metadata": {},
     "output_type": "execute_result"
    }
   ],
   "source": [
    "Matriz_A.dot(Matriz_A.T)"
   ]
  },
  {
   "cell_type": "markdown",
   "metadata": {},
   "source": [
    "* 5.6 Calcule el número de fila y columnas de la matriz A"
   ]
  },
  {
   "cell_type": "code",
   "execution_count": 64,
   "metadata": {},
   "outputs": [
    {
     "name": "stdout",
     "output_type": "stream",
     "text": [
      "3\n",
      "3\n"
     ]
    }
   ],
   "source": [
    "Numerofilas= Matriz_A.shape[1] #filas \n",
    "print(Numerofilas)\n",
    "\n",
    "NumeroColumnas = Matriz_A.shape[0] #columnas\n",
    "print(NumeroColumnas)"
   ]
  },
  {
   "cell_type": "markdown",
   "metadata": {},
   "source": [
    "* 5.7 Sumar las columnas de la matriz A"
   ]
  },
  {
   "cell_type": "code",
   "execution_count": 65,
   "metadata": {},
   "outputs": [
    {
     "data": {
      "text/plain": [
       "array([ 15,  24, -11])"
      ]
     },
     "execution_count": 65,
     "metadata": {},
     "output_type": "execute_result"
    }
   ],
   "source": [
    "Matriz_A.sum(axis=0) #columnas"
   ]
  },
  {
   "cell_type": "markdown",
   "metadata": {},
   "source": [
    "### 6. Trabajando con Matrices - Broadcasting\n",
    "\n",
    "https://numpy.org/doc/stable/user/basics.broadcasting.html#:~:text=The%20term%20broadcasting%20describes%20how,that%20they%20have%20compatible%20shapes.&text=NumPy%20operations%20are%20usually%20done,element%2Dby%2Delement%20basis."
   ]
  },
  {
   "cell_type": "markdown",
   "metadata": {},
   "source": [
    "(m,n) + - * /  (1,n)  -->  (m,n)\n",
    "\n",
    "\n",
    "(m,n) + - * /  (m,1)  -->  (m,n)"
   ]
  },
  {
   "cell_type": "markdown",
   "metadata": {},
   "source": [
    "**reshape(m,n)** permite tener CERTEZA de que la matriz/vector tiene esa composición"
   ]
  },
  {
   "cell_type": "code",
   "execution_count": 66,
   "metadata": {},
   "outputs": [],
   "source": [
    "test = np.array([5, 8, -4]).reshape(3,1)"
   ]
  },
  {
   "cell_type": "code",
   "execution_count": 67,
   "metadata": {},
   "outputs": [
    {
     "data": {
      "text/plain": [
       "array([[ 500],\n",
       "       [ 800],\n",
       "       [-400]])"
      ]
     },
     "execution_count": 67,
     "metadata": {},
     "output_type": "execute_result"
    }
   ],
   "source": [
    "test * 100"
   ]
  },
  {
   "cell_type": "markdown",
   "metadata": {},
   "source": [
    "#### Tip"
   ]
  },
  {
   "cell_type": "code",
   "execution_count": 68,
   "metadata": {},
   "outputs": [
    {
     "name": "stdout",
     "output_type": "stream",
     "text": [
      "[4 8 2]\n"
     ]
    }
   ],
   "source": [
    "#Creamos el vector B\n",
    "Vect_B = np.array([4,8,2])\n",
    "print(Vect_B)\n"
   ]
  },
  {
   "cell_type": "code",
   "execution_count": 73,
   "metadata": {},
   "outputs": [
    {
     "name": "stdout",
     "output_type": "stream",
     "text": [
      "[4 8 2]\n"
     ]
    }
   ],
   "source": [
    "# ¿Qué ocurre son la Traspuesta?\n",
    "print(Vect_B.T)"
   ]
  },
  {
   "cell_type": "code",
   "execution_count": 84,
   "metadata": {},
   "outputs": [
    {
     "name": "stdout",
     "output_type": "stream",
     "text": [
      "[[4 8 2]]\n"
     ]
    }
   ],
   "source": [
    "# Creamos el vector C\n",
    "Vect_C = np.array([4,8,2]).reshape(1,3)\n",
    "print(Vect_C)"
   ]
  },
  {
   "cell_type": "code",
   "execution_count": 77,
   "metadata": {},
   "outputs": [
    {
     "name": "stdout",
     "output_type": "stream",
     "text": [
      "[[4]\n",
      " [8]\n",
      " [2]]\n"
     ]
    }
   ],
   "source": [
    "print(Vect_C.T)"
   ]
  },
  {
   "cell_type": "code",
   "execution_count": 78,
   "metadata": {},
   "outputs": [
    {
     "name": "stdout",
     "output_type": "stream",
     "text": [
      "(3,)\n",
      "(1, 3)\n"
     ]
    }
   ],
   "source": [
    "# Veamos como se componen\n",
    "print(Vect_B.shape)\n",
    "print(Vect_C.shape)"
   ]
  },
  {
   "cell_type": "code",
   "execution_count": 90,
   "metadata": {},
   "outputs": [
    {
     "data": {
      "text/plain": [
       "84"
      ]
     },
     "execution_count": 90,
     "metadata": {},
     "output_type": "execute_result"
    }
   ],
   "source": [
    "# Multicplicamos vector_B con su respectiva transpuesta\n",
    "np.dot(Vect_B.T,Vect_B)"
   ]
  },
  {
   "cell_type": "code",
   "execution_count": 91,
   "metadata": {},
   "outputs": [
    {
     "data": {
      "text/plain": [
       "array([[16, 32,  8],\n",
       "       [32, 64, 16],\n",
       "       [ 8, 16,  4]])"
      ]
     },
     "execution_count": 91,
     "metadata": {},
     "output_type": "execute_result"
    }
   ],
   "source": [
    "# Multicplicamos vector_C con su respectiva transpuesta\n",
    "np.dot(Vect_C.T,Vect_C)"
   ]
  },
  {
   "cell_type": "markdown",
   "metadata": {},
   "source": [
    "Por un lado generamos una estructura de datos con el vector B formado como (3,) matriz denominada \"Matriz de Rango 1\", que no se comporta ni como vector fila, ni como vector columna.\n",
    "\n",
    "Se recomienda armar vectores de columnas o vectores de filas, tal como el vector C."
   ]
  },
  {
   "cell_type": "markdown",
   "metadata": {},
   "source": [
    "### 7. Loop For\n"
   ]
  },
  {
   "cell_type": "markdown",
   "metadata": {},
   "source": [
    "* Seguimos trabajando en base a la misma matriz A:\n",
    "\n",
    "    $$\n",
    "    A = \\begin{pmatrix}\n",
    "    5 & 8 & -4 \\\\\n",
    "    6 & 9 & -5\\\\\n",
    "    4 & 7 & -2\n",
    "    \\end{pmatrix}\n",
    "    $$"
   ]
  },
  {
   "cell_type": "code",
   "execution_count": 118,
   "metadata": {},
   "outputs": [
    {
     "data": {
      "text/plain": [
       "range(0, 3)"
      ]
     },
     "execution_count": 118,
     "metadata": {},
     "output_type": "execute_result"
    }
   ],
   "source": [
    "range(Numerofilas)\n",
    "range(NumeroColumnas)"
   ]
  },
  {
   "cell_type": "markdown",
   "metadata": {},
   "source": [
    "* 7.1 Obtener mediante un Loop la columna de al medio de la matriz A"
   ]
  },
  {
   "cell_type": "code",
   "execution_count": 94,
   "metadata": {},
   "outputs": [
    {
     "data": {
      "text/plain": [
       "[8, 9, 7]"
      ]
     },
     "execution_count": 94,
     "metadata": {},
     "output_type": "execute_result"
    }
   ],
   "source": [
    "lista = [] # creamos una lista vacia\n",
    "\n",
    "for j in range(Numerofilas):\n",
    "         lista.append(Matriz_A[j,1]) # El método append() agrega un elemento al final de la lista.\n",
    "\n",
    "lista"
   ]
  },
  {
   "cell_type": "markdown",
   "metadata": {},
   "source": [
    "* 7.2 Obtener mediante un Loop anidado todos los números dentro de la matriz A"
   ]
  },
  {
   "cell_type": "code",
   "execution_count": 95,
   "metadata": {},
   "outputs": [
    {
     "name": "stdout",
     "output_type": "stream",
     "text": [
      "5\n",
      "6\n",
      "4\n",
      "8\n",
      "9\n",
      "7\n",
      "-4\n",
      "-5\n",
      "-2\n"
     ]
    }
   ],
   "source": [
    "for s in range(NumeroColumnas):  #Recorremos las columnas\n",
    "    for k in range(Numerofilas): #Recorremos las filas\n",
    "        print(Matriz_A[k , s])"
   ]
  },
  {
   "cell_type": "markdown",
   "metadata": {},
   "source": [
    "### Desafio!\n",
    "* 7.3 Dibuja mediante Loops la matriz A, donde se pueda visualizar cada fila con sus respectivos valores"
   ]
  },
  {
   "cell_type": "code",
   "execution_count": 117,
   "metadata": {},
   "outputs": [
    {
     "name": "stdout",
     "output_type": "stream",
     "text": [
      "[5, 8, -4]\n",
      "[6, 9, -5]\n",
      "[4, 7, -2]\n"
     ]
    }
   ],
   "source": [
    "lista2 = []\n",
    "\n",
    "for k in range(Numerofilas):\n",
    "    for j in range(NumeroColumnas):\n",
    "         lista2.append(Matriz_A[k,j])\n",
    "    print(lista2)\n",
    "    lista2 = []"
   ]
  },
  {
   "cell_type": "code",
   "execution_count": null,
   "metadata": {},
   "outputs": [],
   "source": []
  }
 ],
 "metadata": {
  "kernelspec": {
   "display_name": "Python 3",
   "language": "python",
   "name": "python3"
  },
  "language_info": {
   "codemirror_mode": {
    "name": "ipython",
    "version": 3
   },
   "file_extension": ".py",
   "mimetype": "text/x-python",
   "name": "python",
   "nbconvert_exporter": "python",
   "pygments_lexer": "ipython3",
   "version": "3.7.6"
  }
 },
 "nbformat": 4,
 "nbformat_minor": 4
}
